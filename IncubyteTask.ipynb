{
 "cells": [
  {
   "cell_type": "code",
   "execution_count": 39,
   "id": "f8c00e95",
   "metadata": {},
   "outputs": [],
   "source": [
    "from pyspark.sql import SparkSession\n",
    "import pandas\n",
    "import os\n",
    "spark = SparkSession.builder.appName(\"IncubyteTask\").getOrCreate()"
   ]
  },
  {
   "cell_type": "code",
   "execution_count": 40,
   "id": "b6a0b746",
   "metadata": {},
   "outputs": [],
   "source": [
    "def stuff(country_name):\n",
    "    if country_name == \"AUS\":\n",
    "        # Converting AUS.xlsx to AUS.csv\n",
    "        read_excel = pandas.read_excel(f\"SampleInputData/{country_name}.xlsx\")\n",
    "        read_excel.to_csv(f\"SampleInputData/{country_name}.csv\",index = None, header=True)\n",
    "        df = spark.read.csv(f\"SampleInputData/{country_name}.csv\",header=True)\n",
    "    elif country_name in [\"IND\",\"USA\"]:\n",
    "        df = spark.read.csv(f\"SampleInputData/{country_name}.csv\",header=True)\n",
    "    else:\n",
    "        print(\"Only accept country names like:- AUS, IND and USA!\")\n",
    "        exit(1)\n",
    "    \n",
    "    vaccine_column_name = [col for col in df.columns if col.startswith(\"Vaccin\")]\n",
    "    date_of_vaccine = df.select(vaccine_column_name[0]).rdd.flatMap(lambda x: x).collect()\n",
    "    date_of_vaccine_no_dups = ','.join(set(date_of_vaccine))\n",
    "    \n",
    "    # counting the number of vaccinations through date of vaccination\n",
    "    vaccine_count = 0\n",
    "    for i in range(len(date_of_vaccine)):\n",
    "        if date_of_vaccine[i] is not None:\n",
    "            vaccine_count += 1\n",
    "    \n",
    "    # Suppose, Total Population for AUS is 58, USA is 86 and IND is 189.\n",
    "    if country_name == \"AUS\":\n",
    "        total_population = 58\n",
    "        cal = 100*total_population/vaccine_count\n",
    "        final_result = str(round(cal,0)/100) + \"%\"\n",
    "    elif country_name == \"IND\":\n",
    "        total_population = 189\n",
    "        cal = 100*total_population/vaccine_count\n",
    "        final_result = str(round(cal,0)/100) + \"%\"\n",
    "    else:\n",
    "        total_population = 86\n",
    "        cal = 100*total_population/vaccine_count\n",
    "        final_result = str(round(cal,0)/100) + \"%\"\n",
    "    \n",
    "    return country_name,vaccine_count,date_of_vaccine_no_dups,final_result"
   ]
  },
  {
   "cell_type": "code",
   "execution_count": 41,
   "id": "93ea1ed9",
   "metadata": {},
   "outputs": [],
   "source": [
    "country_name_1,no_of_vaccine_1,country_name_dov_1,vaccinated_1 = stuff(\"AUS\")\n",
    "country_name_2,no_of_vaccine_2,country_name_dov_2,vaccinated_2 = stuff(\"IND\")\n",
    "country_name_3,no_of_vaccine_3,country_name_dov_3,vaccinated_3 = stuff(\"USA\")\n",
    "columns = [\"CountryName\",\"VaccinationType\",\"No. of Vaccinations\",\"% Vaccinated\"]\n",
    "data = [(f\"{country_name_1}\",f\"{country_name_dov_1}\",f\"{no_of_vaccine_1}\",f\"{vaccinated_1}\"),\n",
    "        (f\"{country_name_2}\",f\"{country_name_dov_2}\",f\"{no_of_vaccine_2}\",f\"{vaccinated_2}\"),\n",
    "        (f\"{country_name_3}\",f\"{country_name_dov_3}\",f\"{no_of_vaccine_3}\",f\"{vaccinated_3}\")]\n",
    "rdd = spark.sparkContext.parallelize(data)\n",
    "result_df = rdd.toDF(columns)\n",
    "result_df.toPandas().to_csv(\"SampleInputData/test.csv\")"
   ]
  },
  {
   "cell_type": "code",
   "execution_count": 63,
   "id": "4b7de128",
   "metadata": {},
   "outputs": [],
   "source": [
    "def test_df(df):\n",
    "    vaccine_column_name = [col for col in df.columns if col.startswith(\"Vaccin\")]\n",
    "    date_of_vaccine = df.select(vaccine_column_name[0]).rdd.flatMap(lambda x: x).collect()\n",
    "    date_of_vaccine_no_dups = ','.join(set(date_of_vaccine))\n",
    "    vaccine_count = 0\n",
    "    for i in range(len(date_of_vaccine)):\n",
    "        if date_of_vaccine[i] is not None:\n",
    "            vaccine_count += 1\n",
    "    # Suppose population is 145\n",
    "    total_population = 145\n",
    "    cal = 100*total_population/vaccine_count\n",
    "    final_result = str(round(cal,0)/100) + \"%\"\n",
    "    return vaccine_count,final_result"
   ]
  }
 ],
 "metadata": {
  "kernelspec": {
   "display_name": "Python 3 (ipykernel)",
   "language": "python",
   "name": "python3"
  },
  "language_info": {
   "codemirror_mode": {
    "name": "ipython",
    "version": 3
   },
   "file_extension": ".py",
   "mimetype": "text/x-python",
   "name": "python",
   "nbconvert_exporter": "python",
   "pygments_lexer": "ipython3",
   "version": "3.9.12"
  }
 },
 "nbformat": 4,
 "nbformat_minor": 5
}
